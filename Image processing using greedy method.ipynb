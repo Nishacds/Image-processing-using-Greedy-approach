{
 "cells": [
  {
   "cell_type": "markdown",
   "id": "f950864c",
   "metadata": {},
   "source": [
    "# IMAGE PROCESSING USING GREEDY APPROACH"
   ]
  },
  {
   "cell_type": "code",
   "execution_count": 1,
   "id": "3fb4e248",
   "metadata": {},
   "outputs": [],
   "source": [
    "import tkinter as tk\n",
    "from tkinter import filedialog, messagebox\n",
    "from PIL import Image\n",
    "import numpy as np\n",
    "\n",
    "def compress_image():\n",
    "    try:\n",
    "        threshold = int(threshold_entry.get())\n",
    "        if not (0 <= threshold <= 255):\n",
    "            raise ValueError(\"Threshold must be between 0 and 255.\")\n",
    "        \n",
    "        image_path = filedialog.askopenfilename(title=\"Select an Image\", filetypes=[(\"Image Files\", \"*.jpg;*.jpeg;*.png\")])\n",
    "        if not image_path:\n",
    "            return\n",
    "        \n",
    "        image = Image.open(image_path).convert('L')\n",
    "        img_array = np.array(image)\n",
    "        \n",
    "        compressed_array = np.where(img_array < threshold, 0, img_array)\n",
    "        \n",
    "        compressed_image = Image.fromarray(compressed_array.astype(np.uint8))\n",
    "        compressed_image.show()\n",
    "        compressed_image.save(\"compressed_image.png\")\n",
    "        \n",
    "        messagebox.showinfo(\"Success\", \"Image compressed and saved as 'compressed_image.png'\")\n",
    "    except ValueError as e:\n",
    "        messagebox.showerror(\"Error\", str(e))\n",
    "    except Exception as e:\n",
    "        messagebox.showerror(\"Error\", \"An error occurred while compressing the image.\")\n",
    "\n",
    "root = tk.Tk()\n",
    "root.title(\"Greedy Image Compression\")\n",
    "\n",
    "label = tk.Label(root, text=\"Enter Threshold (0-255):\")\n",
    "label.pack(pady=10)\n",
    "\n",
    "threshold_entry = tk.Entry(root)\n",
    "threshold_entry.pack(pady=5)\n",
    "\n",
    "compress_button = tk.Button(root, text=\"Compress Image\", command=compress_image)\n",
    "compress_button.pack(pady=20)\n",
    "\n",
    "root.mainloop()\n"
   ]
  },
  {
   "cell_type": "code",
   "execution_count": null,
   "id": "09840126",
   "metadata": {},
   "outputs": [],
   "source": []
  }
 ],
 "metadata": {
  "kernelspec": {
   "display_name": "Python 3 (ipykernel)",
   "language": "python",
   "name": "python3"
  },
  "language_info": {
   "codemirror_mode": {
    "name": "ipython",
    "version": 3
   },
   "file_extension": ".py",
   "mimetype": "text/x-python",
   "name": "python",
   "nbconvert_exporter": "python",
   "pygments_lexer": "ipython3",
   "version": "3.10.14"
  }
 },
 "nbformat": 4,
 "nbformat_minor": 5
}
